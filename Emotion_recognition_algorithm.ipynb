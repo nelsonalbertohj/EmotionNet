{
 "cells": [
  {
   "cell_type": "code",
   "execution_count": 70,
   "metadata": {
    "collapsed": true
   },
   "outputs": [],
   "source": [
    "import json\n",
    "import pandas as pd\n",
    "import os\n",
    "import numpy as np\n",
    "import scipy.signal as sig\n",
    "from biosppy.signals.bvp import bvp\n",
    "from biosppy.signals.eda import eda\n",
    "import matplotlib.pyplot as plt\n",
    "%matplotlib qt"
   ]
  },
  {
   "cell_type": "markdown",
   "source": [
    "### Data Preparation\n",
    "\n",
    "![dataset_sampling_rates.png](Images/dataset_sampling_rates.png)\n",
    "\n",
    "Notes About Signal Preparation:\n",
    "- All Empatica Signals were upsampled to match the muse samples so that the data can be inputted into a CNN model consistently. This means that the sampling frequency used accross those signals is 256 Hz.\n",
    "- Samsung watch signals not included at the moment because they have a sampling rate that is inconsistent with the Muse Headset\n",
    "- Important modifications before inputing data to model:\n",
    "    - Make sure to center at zero\n",
    "    - Standardize data when appropriate (Such as for filtered EEG data)\n",
    "    - Use timestamps to allign to stimuli but do not input it into model\n",
    "    - Data augmentations to keep in mind: flipping the signal, making the overlap between signals larger"
   ],
   "metadata": {
    "collapsed": false,
    "pycharm": {
     "name": "#%% md\n"
    }
   }
  },
  {
   "cell_type": "code",
   "execution_count": 3,
   "outputs": [],
   "source": [
    "with open(r\"C:\\Users\\nelso\\Desktop\\18065 Project Data\\Emognition\\22\\22_AMUSEMENT_STIMULUS_MUSE.json\") as json_file:\n",
    "    data = json.load(json_file)"
   ],
   "metadata": {
    "collapsed": false,
    "pycharm": {
     "name": "#%%\n"
    }
   }
  },
  {
   "cell_type": "code",
   "execution_count": 92,
   "outputs": [],
   "source": [
    "def eeg_analysis(eeg_data):\n",
    "    eeg_df = pd.DataFrame.from_dict(eeg_data)\n",
    "    eeg_timestamp = eeg_df.pop(\"TimeStamp\")\n",
    "    eeg_df = eeg_df.astype(\"float32\")\n",
    "    eeg_df[\"TimeStamp\"] = eeg_timestamp\n",
    "    eeg_sig_len = len(eeg_df)\n",
    "    return eeg_df, eeg_sig_len\n",
    "\n",
    "def bvp_analysis(data,eeg_len,do_plot = False):\n",
    "    bvp_data = np.array(data['BVP'])[:,-1].astype('float32')\n",
    "    bvp_data = sig.resample(bvp_data,eeg_len)\n",
    "    _, _, _, _, heart_rate = bvp(bvp_data,256,show=do_plot)\n",
    "    heart_rate = sig.resample(heart_rate,eeg_len)\n",
    "\n",
    "    if do_plot:\n",
    "        plt.figure()\n",
    "        plt.plot([i/256 for i in range(len(heart_rate))],heart_rate)\n",
    "        plt.title(\"Heart Rate Interpolated\")\n",
    "    return bvp_data,heart_rate\n",
    "\n",
    "# EDA Signal Analysis\n",
    "def eda_analysis(data,eeg_len,do_plot = False):\n",
    "    eda_data = np.array(data['EDA'])[:,-1].astype('float32')\n",
    "\n",
    "    eda_data = sig.resample(eda_data,eeg_len)\n",
    "    _, filtered_eda, _, _, _ = eda(eda_data,256,show=do_plot)\n",
    "    return filtered_eda\n",
    "\n",
    "# To test eeg_analysis data frame generation\n",
    "# with open(r\"C:\\Users\\nelso\\Desktop\\18065 Project Data\\Emognition\\22\\22_AMUSEMENT_STIMULUS_MUSE.json\") as json_file:\n",
    "#     eeg_data = json.load(json_file)\n",
    "#     eeg_df, eeg_sig_len = eeg_analysis(eeg_data)\n",
    "\n",
    "# To test other physiolocial signals processing\n",
    "# with open(r\"C:\\Users\\nelso\\Desktop\\18065 Project Data\\Emognition\\22\\22_AMUSEMENT_STIMULUS_EMPATICA.json\") as json_file:\n",
    "#     data = json.load(json_file)\n",
    "# BVP signal analysis:\n",
    "#\n",
    "# bvp_analysis(data,eeg_sig_len,True)\n",
    "#\n",
    "# eda_analysis(data,eeg_sig_len,True)"
   ],
   "metadata": {
    "collapsed": false,
    "pycharm": {
     "name": "#%%\n"
    }
   }
  },
  {
   "cell_type": "code",
   "execution_count": 94,
   "outputs": [],
   "source": [
    "file_loc = r\"C:\\Users\\nelso\\Desktop\\18065 Project Data\\Emognition\""
   ],
   "metadata": {
    "collapsed": false,
    "pycharm": {
     "name": "#%%\n"
    }
   }
  },
  {
   "cell_type": "code",
   "execution_count": 106,
   "outputs": [
    {
     "ename": "KeyboardInterrupt",
     "evalue": "",
     "output_type": "error",
     "traceback": [
      "\u001B[1;31m---------------------------------------------------------------------------\u001B[0m",
      "\u001B[1;31mKeyboardInterrupt\u001B[0m                         Traceback (most recent call last)",
      "Input \u001B[1;32mIn [106]\u001B[0m, in \u001B[0;36m<cell line: 6>\u001B[1;34m()\u001B[0m\n\u001B[0;32m     28\u001B[0m data \u001B[38;5;241m=\u001B[39m json\u001B[38;5;241m.\u001B[39mload(json_file)\n\u001B[0;32m     29\u001B[0m \u001B[38;5;28;01mif\u001B[39;00m device \u001B[38;5;241m==\u001B[39m \u001B[38;5;124m\"\u001B[39m\u001B[38;5;124mMUSE\u001B[39m\u001B[38;5;124m\"\u001B[39m:\n\u001B[1;32m---> 30\u001B[0m     per_user_stimulus_arr[d][emotion],eeg_sig_len \u001B[38;5;241m=\u001B[39m \u001B[43meeg_analysis\u001B[49m\u001B[43m(\u001B[49m\u001B[43mdata\u001B[49m\u001B[43m)\u001B[49m\n\u001B[0;32m     31\u001B[0m \u001B[38;5;28;01melif\u001B[39;00m device \u001B[38;5;241m==\u001B[39m \u001B[38;5;124m\"\u001B[39m\u001B[38;5;124mEMPATICA\u001B[39m\u001B[38;5;124m\"\u001B[39m:\n\u001B[0;32m     32\u001B[0m     bvp_data, heart_rate \u001B[38;5;241m=\u001B[39m bvp_analysis(data,eeg_sig_len,do_plot\u001B[38;5;241m=\u001B[39mTesting)\n",
      "Input \u001B[1;32mIn [92]\u001B[0m, in \u001B[0;36meeg_analysis\u001B[1;34m(eeg_data)\u001B[0m\n\u001B[0;32m      1\u001B[0m \u001B[38;5;28;01mdef\u001B[39;00m \u001B[38;5;21meeg_analysis\u001B[39m(eeg_data):\n\u001B[1;32m----> 2\u001B[0m     eeg_df \u001B[38;5;241m=\u001B[39m \u001B[43mpd\u001B[49m\u001B[38;5;241;43m.\u001B[39;49m\u001B[43mDataFrame\u001B[49m\u001B[38;5;241;43m.\u001B[39;49m\u001B[43mfrom_dict\u001B[49m\u001B[43m(\u001B[49m\u001B[43meeg_data\u001B[49m\u001B[43m)\u001B[49m\n\u001B[0;32m      3\u001B[0m     eeg_timestamp \u001B[38;5;241m=\u001B[39m eeg_df\u001B[38;5;241m.\u001B[39mpop(\u001B[38;5;124m\"\u001B[39m\u001B[38;5;124mTimeStamp\u001B[39m\u001B[38;5;124m\"\u001B[39m)\n\u001B[0;32m      4\u001B[0m     eeg_df \u001B[38;5;241m=\u001B[39m eeg_df\u001B[38;5;241m.\u001B[39mastype(\u001B[38;5;124m\"\u001B[39m\u001B[38;5;124mfloat32\u001B[39m\u001B[38;5;124m\"\u001B[39m)\n",
      "File \u001B[1;32m~\\anaconda3\\envs\\generalML\\lib\\site-packages\\pandas\\core\\frame.py:1677\u001B[0m, in \u001B[0;36mDataFrame.from_dict\u001B[1;34m(cls, data, orient, dtype, columns)\u001B[0m\n\u001B[0;32m   1674\u001B[0m     \u001B[38;5;28;01mraise\u001B[39;00m \u001B[38;5;167;01mValueError\u001B[39;00m(\u001B[38;5;124m\"\u001B[39m\u001B[38;5;124monly recognize index or columns for orient\u001B[39m\u001B[38;5;124m\"\u001B[39m)\n\u001B[0;32m   1676\u001B[0m \u001B[38;5;28;01mif\u001B[39;00m orient \u001B[38;5;241m!=\u001B[39m \u001B[38;5;124m\"\u001B[39m\u001B[38;5;124mtight\u001B[39m\u001B[38;5;124m\"\u001B[39m:\n\u001B[1;32m-> 1677\u001B[0m     \u001B[38;5;28;01mreturn\u001B[39;00m \u001B[38;5;28;43mcls\u001B[39;49m\u001B[43m(\u001B[49m\u001B[43mdata\u001B[49m\u001B[43m,\u001B[49m\u001B[43m \u001B[49m\u001B[43mindex\u001B[49m\u001B[38;5;241;43m=\u001B[39;49m\u001B[43mindex\u001B[49m\u001B[43m,\u001B[49m\u001B[43m \u001B[49m\u001B[43mcolumns\u001B[49m\u001B[38;5;241;43m=\u001B[39;49m\u001B[43mcolumns\u001B[49m\u001B[43m,\u001B[49m\u001B[43m \u001B[49m\u001B[43mdtype\u001B[49m\u001B[38;5;241;43m=\u001B[39;49m\u001B[43mdtype\u001B[49m\u001B[43m)\u001B[49m\n\u001B[0;32m   1678\u001B[0m \u001B[38;5;28;01melse\u001B[39;00m:\n\u001B[0;32m   1679\u001B[0m     realdata \u001B[38;5;241m=\u001B[39m data[\u001B[38;5;124m\"\u001B[39m\u001B[38;5;124mdata\u001B[39m\u001B[38;5;124m\"\u001B[39m]\n",
      "File \u001B[1;32m~\\anaconda3\\envs\\generalML\\lib\\site-packages\\pandas\\core\\frame.py:636\u001B[0m, in \u001B[0;36mDataFrame.__init__\u001B[1;34m(self, data, index, columns, dtype, copy)\u001B[0m\n\u001B[0;32m    630\u001B[0m     mgr \u001B[38;5;241m=\u001B[39m \u001B[38;5;28mself\u001B[39m\u001B[38;5;241m.\u001B[39m_init_mgr(\n\u001B[0;32m    631\u001B[0m         data, axes\u001B[38;5;241m=\u001B[39m{\u001B[38;5;124m\"\u001B[39m\u001B[38;5;124mindex\u001B[39m\u001B[38;5;124m\"\u001B[39m: index, \u001B[38;5;124m\"\u001B[39m\u001B[38;5;124mcolumns\u001B[39m\u001B[38;5;124m\"\u001B[39m: columns}, dtype\u001B[38;5;241m=\u001B[39mdtype, copy\u001B[38;5;241m=\u001B[39mcopy\n\u001B[0;32m    632\u001B[0m     )\n\u001B[0;32m    634\u001B[0m \u001B[38;5;28;01melif\u001B[39;00m \u001B[38;5;28misinstance\u001B[39m(data, \u001B[38;5;28mdict\u001B[39m):\n\u001B[0;32m    635\u001B[0m     \u001B[38;5;66;03m# GH#38939 de facto copy defaults to False only in non-dict cases\u001B[39;00m\n\u001B[1;32m--> 636\u001B[0m     mgr \u001B[38;5;241m=\u001B[39m \u001B[43mdict_to_mgr\u001B[49m\u001B[43m(\u001B[49m\u001B[43mdata\u001B[49m\u001B[43m,\u001B[49m\u001B[43m \u001B[49m\u001B[43mindex\u001B[49m\u001B[43m,\u001B[49m\u001B[43m \u001B[49m\u001B[43mcolumns\u001B[49m\u001B[43m,\u001B[49m\u001B[43m \u001B[49m\u001B[43mdtype\u001B[49m\u001B[38;5;241;43m=\u001B[39;49m\u001B[43mdtype\u001B[49m\u001B[43m,\u001B[49m\u001B[43m \u001B[49m\u001B[43mcopy\u001B[49m\u001B[38;5;241;43m=\u001B[39;49m\u001B[43mcopy\u001B[49m\u001B[43m,\u001B[49m\u001B[43m \u001B[49m\u001B[43mtyp\u001B[49m\u001B[38;5;241;43m=\u001B[39;49m\u001B[43mmanager\u001B[49m\u001B[43m)\u001B[49m\n\u001B[0;32m    637\u001B[0m \u001B[38;5;28;01melif\u001B[39;00m \u001B[38;5;28misinstance\u001B[39m(data, ma\u001B[38;5;241m.\u001B[39mMaskedArray):\n\u001B[0;32m    638\u001B[0m     \u001B[38;5;28;01mimport\u001B[39;00m \u001B[38;5;21;01mnumpy\u001B[39;00m\u001B[38;5;21;01m.\u001B[39;00m\u001B[38;5;21;01mma\u001B[39;00m\u001B[38;5;21;01m.\u001B[39;00m\u001B[38;5;21;01mmrecords\u001B[39;00m \u001B[38;5;28;01mas\u001B[39;00m \u001B[38;5;21;01mmrecords\u001B[39;00m\n",
      "File \u001B[1;32m~\\anaconda3\\envs\\generalML\\lib\\site-packages\\pandas\\core\\internals\\construction.py:502\u001B[0m, in \u001B[0;36mdict_to_mgr\u001B[1;34m(data, index, columns, dtype, typ, copy)\u001B[0m\n\u001B[0;32m    494\u001B[0m     arrays \u001B[38;5;241m=\u001B[39m [\n\u001B[0;32m    495\u001B[0m         x\n\u001B[0;32m    496\u001B[0m         \u001B[38;5;28;01mif\u001B[39;00m \u001B[38;5;129;01mnot\u001B[39;00m \u001B[38;5;28mhasattr\u001B[39m(x, \u001B[38;5;124m\"\u001B[39m\u001B[38;5;124mdtype\u001B[39m\u001B[38;5;124m\"\u001B[39m) \u001B[38;5;129;01mor\u001B[39;00m \u001B[38;5;129;01mnot\u001B[39;00m \u001B[38;5;28misinstance\u001B[39m(x\u001B[38;5;241m.\u001B[39mdtype, ExtensionDtype)\n\u001B[0;32m    497\u001B[0m         \u001B[38;5;28;01melse\u001B[39;00m x\u001B[38;5;241m.\u001B[39mcopy()\n\u001B[0;32m    498\u001B[0m         \u001B[38;5;28;01mfor\u001B[39;00m x \u001B[38;5;129;01min\u001B[39;00m arrays\n\u001B[0;32m    499\u001B[0m     ]\n\u001B[0;32m    500\u001B[0m     \u001B[38;5;66;03m# TODO: can we get rid of the dt64tz special case above?\u001B[39;00m\n\u001B[1;32m--> 502\u001B[0m \u001B[38;5;28;01mreturn\u001B[39;00m \u001B[43marrays_to_mgr\u001B[49m\u001B[43m(\u001B[49m\u001B[43marrays\u001B[49m\u001B[43m,\u001B[49m\u001B[43m \u001B[49m\u001B[43mcolumns\u001B[49m\u001B[43m,\u001B[49m\u001B[43m \u001B[49m\u001B[43mindex\u001B[49m\u001B[43m,\u001B[49m\u001B[43m \u001B[49m\u001B[43mdtype\u001B[49m\u001B[38;5;241;43m=\u001B[39;49m\u001B[43mdtype\u001B[49m\u001B[43m,\u001B[49m\u001B[43m \u001B[49m\u001B[43mtyp\u001B[49m\u001B[38;5;241;43m=\u001B[39;49m\u001B[43mtyp\u001B[49m\u001B[43m,\u001B[49m\u001B[43m \u001B[49m\u001B[43mconsolidate\u001B[49m\u001B[38;5;241;43m=\u001B[39;49m\u001B[43mcopy\u001B[49m\u001B[43m)\u001B[49m\n",
      "File \u001B[1;32m~\\anaconda3\\envs\\generalML\\lib\\site-packages\\pandas\\core\\internals\\construction.py:125\u001B[0m, in \u001B[0;36marrays_to_mgr\u001B[1;34m(arrays, columns, index, dtype, verify_integrity, typ, consolidate)\u001B[0m\n\u001B[0;32m    122\u001B[0m         index \u001B[38;5;241m=\u001B[39m ensure_index(index)\n\u001B[0;32m    124\u001B[0m     \u001B[38;5;66;03m# don't force copy because getting jammed in an ndarray anyway\u001B[39;00m\n\u001B[1;32m--> 125\u001B[0m     arrays \u001B[38;5;241m=\u001B[39m \u001B[43m_homogenize\u001B[49m\u001B[43m(\u001B[49m\u001B[43marrays\u001B[49m\u001B[43m,\u001B[49m\u001B[43m \u001B[49m\u001B[43mindex\u001B[49m\u001B[43m,\u001B[49m\u001B[43m \u001B[49m\u001B[43mdtype\u001B[49m\u001B[43m)\u001B[49m\n\u001B[0;32m    126\u001B[0m     \u001B[38;5;66;03m# _homogenize ensures\u001B[39;00m\n\u001B[0;32m    127\u001B[0m     \u001B[38;5;66;03m#  - all(len(x) == len(index) for x in arrays)\u001B[39;00m\n\u001B[0;32m    128\u001B[0m     \u001B[38;5;66;03m#  - all(x.ndim == 1 for x in arrays)\u001B[39;00m\n\u001B[1;32m   (...)\u001B[0m\n\u001B[0;32m    131\u001B[0m \n\u001B[0;32m    132\u001B[0m \u001B[38;5;28;01melse\u001B[39;00m:\n\u001B[0;32m    133\u001B[0m     index \u001B[38;5;241m=\u001B[39m ensure_index(index)\n",
      "File \u001B[1;32m~\\anaconda3\\envs\\generalML\\lib\\site-packages\\pandas\\core\\internals\\construction.py:625\u001B[0m, in \u001B[0;36m_homogenize\u001B[1;34m(data, index, dtype)\u001B[0m\n\u001B[0;32m    622\u001B[0m             val \u001B[38;5;241m=\u001B[39m \u001B[38;5;28mdict\u001B[39m(val)\n\u001B[0;32m    623\u001B[0m         val \u001B[38;5;241m=\u001B[39m lib\u001B[38;5;241m.\u001B[39mfast_multiget(val, oindex\u001B[38;5;241m.\u001B[39m_values, default\u001B[38;5;241m=\u001B[39mnp\u001B[38;5;241m.\u001B[39mnan)\n\u001B[1;32m--> 625\u001B[0m     val \u001B[38;5;241m=\u001B[39m \u001B[43msanitize_array\u001B[49m\u001B[43m(\u001B[49m\n\u001B[0;32m    626\u001B[0m \u001B[43m        \u001B[49m\u001B[43mval\u001B[49m\u001B[43m,\u001B[49m\u001B[43m \u001B[49m\u001B[43mindex\u001B[49m\u001B[43m,\u001B[49m\u001B[43m \u001B[49m\u001B[43mdtype\u001B[49m\u001B[38;5;241;43m=\u001B[39;49m\u001B[43mdtype\u001B[49m\u001B[43m,\u001B[49m\u001B[43m \u001B[49m\u001B[43mcopy\u001B[49m\u001B[38;5;241;43m=\u001B[39;49m\u001B[38;5;28;43;01mFalse\u001B[39;49;00m\u001B[43m,\u001B[49m\u001B[43m \u001B[49m\u001B[43mraise_cast_failure\u001B[49m\u001B[38;5;241;43m=\u001B[39;49m\u001B[38;5;28;43;01mFalse\u001B[39;49;00m\n\u001B[0;32m    627\u001B[0m \u001B[43m    \u001B[49m\u001B[43m)\u001B[49m\n\u001B[0;32m    628\u001B[0m     com\u001B[38;5;241m.\u001B[39mrequire_length_match(val, index)\n\u001B[0;32m    630\u001B[0m homogenized\u001B[38;5;241m.\u001B[39mappend(val)\n",
      "File \u001B[1;32m~\\anaconda3\\envs\\generalML\\lib\\site-packages\\pandas\\core\\construction.py:593\u001B[0m, in \u001B[0;36msanitize_array\u001B[1;34m(data, index, dtype, copy, raise_cast_failure, allow_2d)\u001B[0m\n\u001B[0;32m    591\u001B[0m     subarr \u001B[38;5;241m=\u001B[39m _try_cast(data, dtype, copy, raise_cast_failure)\n\u001B[0;32m    592\u001B[0m \u001B[38;5;28;01melse\u001B[39;00m:\n\u001B[1;32m--> 593\u001B[0m     subarr \u001B[38;5;241m=\u001B[39m \u001B[43mmaybe_convert_platform\u001B[49m\u001B[43m(\u001B[49m\u001B[43mdata\u001B[49m\u001B[43m)\u001B[49m\n\u001B[0;32m    594\u001B[0m     \u001B[38;5;28;01mif\u001B[39;00m subarr\u001B[38;5;241m.\u001B[39mdtype \u001B[38;5;241m==\u001B[39m \u001B[38;5;28mobject\u001B[39m:\n\u001B[0;32m    595\u001B[0m         subarr \u001B[38;5;241m=\u001B[39m cast(np\u001B[38;5;241m.\u001B[39mndarray, subarr)\n",
      "File \u001B[1;32m~\\anaconda3\\envs\\generalML\\lib\\site-packages\\pandas\\core\\dtypes\\cast.py:122\u001B[0m, in \u001B[0;36mmaybe_convert_platform\u001B[1;34m(values)\u001B[0m\n\u001B[0;32m    119\u001B[0m arr: ArrayLike\n\u001B[0;32m    121\u001B[0m \u001B[38;5;28;01mif\u001B[39;00m \u001B[38;5;28misinstance\u001B[39m(values, (\u001B[38;5;28mlist\u001B[39m, \u001B[38;5;28mtuple\u001B[39m, \u001B[38;5;28mrange\u001B[39m)):\n\u001B[1;32m--> 122\u001B[0m     arr \u001B[38;5;241m=\u001B[39m \u001B[43mconstruct_1d_object_array_from_listlike\u001B[49m\u001B[43m(\u001B[49m\u001B[43mvalues\u001B[49m\u001B[43m)\u001B[49m\n\u001B[0;32m    123\u001B[0m \u001B[38;5;28;01melse\u001B[39;00m:\n\u001B[0;32m    124\u001B[0m     \u001B[38;5;66;03m# The caller is responsible for ensuring that we have np.ndarray\u001B[39;00m\n\u001B[0;32m    125\u001B[0m     \u001B[38;5;66;03m#  or ExtensionArray here.\u001B[39;00m\n\u001B[0;32m    126\u001B[0m     arr \u001B[38;5;241m=\u001B[39m values\n",
      "File \u001B[1;32m~\\anaconda3\\envs\\generalML\\lib\\site-packages\\pandas\\core\\dtypes\\cast.py:1980\u001B[0m, in \u001B[0;36mconstruct_1d_object_array_from_listlike\u001B[1;34m(values)\u001B[0m\n\u001B[0;32m   1961\u001B[0m \u001B[38;5;124;03m\"\"\"\u001B[39;00m\n\u001B[0;32m   1962\u001B[0m \u001B[38;5;124;03mTransform any list-like object in a 1-dimensional numpy array of object\u001B[39;00m\n\u001B[0;32m   1963\u001B[0m \u001B[38;5;124;03mdtype.\u001B[39;00m\n\u001B[1;32m   (...)\u001B[0m\n\u001B[0;32m   1976\u001B[0m \u001B[38;5;124;03m1-dimensional numpy array of dtype object\u001B[39;00m\n\u001B[0;32m   1977\u001B[0m \u001B[38;5;124;03m\"\"\"\u001B[39;00m\n\u001B[0;32m   1978\u001B[0m \u001B[38;5;66;03m# numpy will try to interpret nested lists as further dimensions, hence\u001B[39;00m\n\u001B[0;32m   1979\u001B[0m \u001B[38;5;66;03m# making a 1D array that contains list-likes is a bit tricky:\u001B[39;00m\n\u001B[1;32m-> 1980\u001B[0m result \u001B[38;5;241m=\u001B[39m \u001B[43mnp\u001B[49m\u001B[38;5;241;43m.\u001B[39;49m\u001B[43mempty\u001B[49m\u001B[43m(\u001B[49m\u001B[38;5;28;43mlen\u001B[39;49m\u001B[43m(\u001B[49m\u001B[43mvalues\u001B[49m\u001B[43m)\u001B[49m\u001B[43m,\u001B[49m\u001B[43m \u001B[49m\u001B[43mdtype\u001B[49m\u001B[38;5;241;43m=\u001B[39;49m\u001B[38;5;124;43m\"\u001B[39;49m\u001B[38;5;124;43mobject\u001B[39;49m\u001B[38;5;124;43m\"\u001B[39;49m\u001B[43m)\u001B[49m\n\u001B[0;32m   1981\u001B[0m result[:] \u001B[38;5;241m=\u001B[39m values\n\u001B[0;32m   1982\u001B[0m \u001B[38;5;28;01mreturn\u001B[39;00m result\n",
      "\u001B[1;31mKeyboardInterrupt\u001B[0m: "
     ]
    }
   ],
   "source": [
    "emotions = [\"BASELINE\",\"AMUSEMENT\",\"ANGER\",\"AWE\",\"BASELINE\",\"DISGUST\",\"ENTHUSIASM\",\"FEAR\",\"LIKING\",\"NEUTRAL\",\"SADNESS\",\"SURPRISE\"]\n",
    "devices_of_interest = [\"MUSE\",\"EMPATICA\"] #MUSE must be loaded first!\n",
    "Testing = False\n",
    "per_user_labels = {}\n",
    "per_user_stimulus_arr = {}\n",
    "for root,dir,_ in os.walk(file_loc):\n",
    "    for d in dir:\n",
    "        # print(\"Directory: \", d)\n",
    "        participant = os.path.join(root,d)\n",
    "\n",
    "        #Map user to Label in Dicionary\n",
    "        emotion_dict = {e:{} for e in emotions}\n",
    "        labels_loc = participant + \"\\\\\" + d + \"_QUESTIONNAIRES.json\"\n",
    "        with open(labels_loc) as json_file:\n",
    "            quest_results = json.load(json_file)\n",
    "            for condition in quest_results['questionnaires']:\n",
    "                cond_type = condition[\"movie\"]\n",
    "                emotion_dict[cond_type] = condition[\"emotions\"]\n",
    "        per_user_labels[d] = emotion_dict\n",
    "        per_user_stimulus_arr[d] = {}\n",
    "\n",
    "        for emotion in emotions:\n",
    "            for device in devices_of_interest:\n",
    "                data_loc = participant + f\"\\\\{d}_{emotion}_STIMULUS_{device}.json\"\n",
    "\n",
    "                try:\n",
    "                    with open(data_loc) as json_file:\n",
    "                        data = json.load(json_file)\n",
    "                        if device == \"MUSE\":\n",
    "                            per_user_stimulus_arr[d][emotion],eeg_sig_len = eeg_analysis(data)\n",
    "                        elif device == \"EMPATICA\":\n",
    "                            bvp_data, heart_rate = bvp_analysis(data,eeg_sig_len,do_plot=Testing)\n",
    "                            per_user_stimulus_arr[d][emotion][\"BVP_Filt\"] = bvp_data\n",
    "                            per_user_stimulus_arr[d][emotion][\"HR_EMPATICA\"] = heart_rate\n",
    "                            filt_eda = eda_analysis(data,eeg_sig_len,do_plot = Testing)\n",
    "                            per_user_stimulus_arr[d][emotion][\"EDA_EMPATICA\"] = filt_eda\n",
    "                except FileNotFoundError:\n",
    "                    break\n",
    "                except Exception as e:\n",
    "                    raise e"
   ],
   "metadata": {
    "collapsed": false,
    "pycharm": {
     "name": "#%%\n"
    }
   }
  },
  {
   "cell_type": "code",
   "execution_count": 104,
   "outputs": [
    {
     "data": {
      "text/plain": "       Delta_TP9  Delta_AF7  Delta_AF8  Delta_TP10  Theta_TP9  Theta_AF7  \\\n0       0.647016  -0.085379   0.145839    0.693771    0.72223  -0.219881   \n1       0.647016  -0.085379   0.145839    0.693771    0.72223  -0.219881   \n2       0.647016  -0.085379   0.145839    0.693771    0.72223  -0.219881   \n3       0.647016  -0.085379   0.145839    0.693771    0.72223  -0.219881   \n4       0.647016  -0.085379   0.145839    0.693771    0.72223  -0.219881   \n...          ...        ...        ...         ...        ...        ...   \n81537   0.615062   1.191643   0.831269   -0.083804    0.14550   0.610797   \n81538   0.615062   1.191643   0.831269   -0.083804    0.14550   0.610797   \n81539   0.615062   1.191643   0.831269   -0.083804    0.14550   0.610797   \n81540   0.615062   1.191643   0.831269   -0.083804    0.14550   0.610797   \n81541   0.615062   1.191643   0.831269   -0.083804    0.14550   0.610797   \n\n       Theta_AF8  Theta_TP10  Alpha_TP9  Alpha_AF7  ...  HeadBandOn  HSI_TP9  \\\n0      -0.246561    0.762460   0.959443   0.131083  ...         1.0      1.0   \n1      -0.246561    0.762460   0.959443   0.131083  ...         1.0      1.0   \n2      -0.246561    0.762460   0.959443   0.131083  ...         1.0      1.0   \n3      -0.246561    0.762460   0.959443   0.131083  ...         1.0      1.0   \n4      -0.246561    0.762460   0.959443   0.131083  ...         1.0      1.0   \n...          ...         ...        ...        ...  ...         ...      ...   \n81537   0.448910    0.053056   0.425060   0.229382  ...         1.0      2.0   \n81538   0.448910    0.053056   0.425060   0.229382  ...         1.0      2.0   \n81539   0.448910    0.053056   0.425060   0.229382  ...         1.0      2.0   \n81540   0.448910    0.053056   0.425060   0.229382  ...         1.0      2.0   \n81541   0.448910    0.053056   0.425060   0.229382  ...         1.0      2.0   \n\n       HSI_AF7  HSI_AF8  HSI_TP10  Battery                   TimeStamp  \\\n0          1.0      1.0       1.0    100.0  2020-07-16T09:12:47.018000   \n1          1.0      1.0       1.0    100.0  2020-07-16T09:12:47.019000   \n2          1.0      1.0       1.0    100.0  2020-07-16T09:12:47.020000   \n3          1.0      1.0       1.0    100.0  2020-07-16T09:12:47.021000   \n4          1.0      1.0       1.0    100.0  2020-07-16T09:12:47.022000   \n...        ...      ...       ...      ...                         ...   \n81537      1.0      1.0       2.0    100.0  2020-07-16T09:18:04.983000   \n81538      1.0      1.0       2.0    100.0  2020-07-16T09:18:04.984000   \n81539      1.0      1.0       2.0    100.0  2020-07-16T09:18:04.985000   \n81540      1.0      1.0       2.0    100.0  2020-07-16T09:18:04.985000   \n81541      1.0      1.0       2.0    100.0  2020-07-16T09:18:04.986000   \n\n         BVP_Filt  HR_EMPATICA  EDA_EMPATICA  \n0      294.908569    84.438228      3.290601  \n1      336.434235    84.418796      3.290523  \n2      350.648682    84.398962      3.290446  \n3      345.229523    84.378732      3.290373  \n4      332.881897    84.358110      3.290303  \n...           ...          ...           ...  \n81537  -29.152262    84.529231      2.384798  \n81538    3.337784    84.511865      2.389775  \n81539   64.889992    84.494078      2.394637  \n81540  145.178665    84.475874      2.399381  \n81541  227.497589    84.457256      2.404008  \n\n[81542 rows x 41 columns]",
      "text/html": "<div>\n<style scoped>\n    .dataframe tbody tr th:only-of-type {\n        vertical-align: middle;\n    }\n\n    .dataframe tbody tr th {\n        vertical-align: top;\n    }\n\n    .dataframe thead th {\n        text-align: right;\n    }\n</style>\n<table border=\"1\" class=\"dataframe\">\n  <thead>\n    <tr style=\"text-align: right;\">\n      <th></th>\n      <th>Delta_TP9</th>\n      <th>Delta_AF7</th>\n      <th>Delta_AF8</th>\n      <th>Delta_TP10</th>\n      <th>Theta_TP9</th>\n      <th>Theta_AF7</th>\n      <th>Theta_AF8</th>\n      <th>Theta_TP10</th>\n      <th>Alpha_TP9</th>\n      <th>Alpha_AF7</th>\n      <th>...</th>\n      <th>HeadBandOn</th>\n      <th>HSI_TP9</th>\n      <th>HSI_AF7</th>\n      <th>HSI_AF8</th>\n      <th>HSI_TP10</th>\n      <th>Battery</th>\n      <th>TimeStamp</th>\n      <th>BVP_Filt</th>\n      <th>HR_EMPATICA</th>\n      <th>EDA_EMPATICA</th>\n    </tr>\n  </thead>\n  <tbody>\n    <tr>\n      <th>0</th>\n      <td>0.647016</td>\n      <td>-0.085379</td>\n      <td>0.145839</td>\n      <td>0.693771</td>\n      <td>0.72223</td>\n      <td>-0.219881</td>\n      <td>-0.246561</td>\n      <td>0.762460</td>\n      <td>0.959443</td>\n      <td>0.131083</td>\n      <td>...</td>\n      <td>1.0</td>\n      <td>1.0</td>\n      <td>1.0</td>\n      <td>1.0</td>\n      <td>1.0</td>\n      <td>100.0</td>\n      <td>2020-07-16T09:12:47.018000</td>\n      <td>294.908569</td>\n      <td>84.438228</td>\n      <td>3.290601</td>\n    </tr>\n    <tr>\n      <th>1</th>\n      <td>0.647016</td>\n      <td>-0.085379</td>\n      <td>0.145839</td>\n      <td>0.693771</td>\n      <td>0.72223</td>\n      <td>-0.219881</td>\n      <td>-0.246561</td>\n      <td>0.762460</td>\n      <td>0.959443</td>\n      <td>0.131083</td>\n      <td>...</td>\n      <td>1.0</td>\n      <td>1.0</td>\n      <td>1.0</td>\n      <td>1.0</td>\n      <td>1.0</td>\n      <td>100.0</td>\n      <td>2020-07-16T09:12:47.019000</td>\n      <td>336.434235</td>\n      <td>84.418796</td>\n      <td>3.290523</td>\n    </tr>\n    <tr>\n      <th>2</th>\n      <td>0.647016</td>\n      <td>-0.085379</td>\n      <td>0.145839</td>\n      <td>0.693771</td>\n      <td>0.72223</td>\n      <td>-0.219881</td>\n      <td>-0.246561</td>\n      <td>0.762460</td>\n      <td>0.959443</td>\n      <td>0.131083</td>\n      <td>...</td>\n      <td>1.0</td>\n      <td>1.0</td>\n      <td>1.0</td>\n      <td>1.0</td>\n      <td>1.0</td>\n      <td>100.0</td>\n      <td>2020-07-16T09:12:47.020000</td>\n      <td>350.648682</td>\n      <td>84.398962</td>\n      <td>3.290446</td>\n    </tr>\n    <tr>\n      <th>3</th>\n      <td>0.647016</td>\n      <td>-0.085379</td>\n      <td>0.145839</td>\n      <td>0.693771</td>\n      <td>0.72223</td>\n      <td>-0.219881</td>\n      <td>-0.246561</td>\n      <td>0.762460</td>\n      <td>0.959443</td>\n      <td>0.131083</td>\n      <td>...</td>\n      <td>1.0</td>\n      <td>1.0</td>\n      <td>1.0</td>\n      <td>1.0</td>\n      <td>1.0</td>\n      <td>100.0</td>\n      <td>2020-07-16T09:12:47.021000</td>\n      <td>345.229523</td>\n      <td>84.378732</td>\n      <td>3.290373</td>\n    </tr>\n    <tr>\n      <th>4</th>\n      <td>0.647016</td>\n      <td>-0.085379</td>\n      <td>0.145839</td>\n      <td>0.693771</td>\n      <td>0.72223</td>\n      <td>-0.219881</td>\n      <td>-0.246561</td>\n      <td>0.762460</td>\n      <td>0.959443</td>\n      <td>0.131083</td>\n      <td>...</td>\n      <td>1.0</td>\n      <td>1.0</td>\n      <td>1.0</td>\n      <td>1.0</td>\n      <td>1.0</td>\n      <td>100.0</td>\n      <td>2020-07-16T09:12:47.022000</td>\n      <td>332.881897</td>\n      <td>84.358110</td>\n      <td>3.290303</td>\n    </tr>\n    <tr>\n      <th>...</th>\n      <td>...</td>\n      <td>...</td>\n      <td>...</td>\n      <td>...</td>\n      <td>...</td>\n      <td>...</td>\n      <td>...</td>\n      <td>...</td>\n      <td>...</td>\n      <td>...</td>\n      <td>...</td>\n      <td>...</td>\n      <td>...</td>\n      <td>...</td>\n      <td>...</td>\n      <td>...</td>\n      <td>...</td>\n      <td>...</td>\n      <td>...</td>\n      <td>...</td>\n      <td>...</td>\n    </tr>\n    <tr>\n      <th>81537</th>\n      <td>0.615062</td>\n      <td>1.191643</td>\n      <td>0.831269</td>\n      <td>-0.083804</td>\n      <td>0.14550</td>\n      <td>0.610797</td>\n      <td>0.448910</td>\n      <td>0.053056</td>\n      <td>0.425060</td>\n      <td>0.229382</td>\n      <td>...</td>\n      <td>1.0</td>\n      <td>2.0</td>\n      <td>1.0</td>\n      <td>1.0</td>\n      <td>2.0</td>\n      <td>100.0</td>\n      <td>2020-07-16T09:18:04.983000</td>\n      <td>-29.152262</td>\n      <td>84.529231</td>\n      <td>2.384798</td>\n    </tr>\n    <tr>\n      <th>81538</th>\n      <td>0.615062</td>\n      <td>1.191643</td>\n      <td>0.831269</td>\n      <td>-0.083804</td>\n      <td>0.14550</td>\n      <td>0.610797</td>\n      <td>0.448910</td>\n      <td>0.053056</td>\n      <td>0.425060</td>\n      <td>0.229382</td>\n      <td>...</td>\n      <td>1.0</td>\n      <td>2.0</td>\n      <td>1.0</td>\n      <td>1.0</td>\n      <td>2.0</td>\n      <td>100.0</td>\n      <td>2020-07-16T09:18:04.984000</td>\n      <td>3.337784</td>\n      <td>84.511865</td>\n      <td>2.389775</td>\n    </tr>\n    <tr>\n      <th>81539</th>\n      <td>0.615062</td>\n      <td>1.191643</td>\n      <td>0.831269</td>\n      <td>-0.083804</td>\n      <td>0.14550</td>\n      <td>0.610797</td>\n      <td>0.448910</td>\n      <td>0.053056</td>\n      <td>0.425060</td>\n      <td>0.229382</td>\n      <td>...</td>\n      <td>1.0</td>\n      <td>2.0</td>\n      <td>1.0</td>\n      <td>1.0</td>\n      <td>2.0</td>\n      <td>100.0</td>\n      <td>2020-07-16T09:18:04.985000</td>\n      <td>64.889992</td>\n      <td>84.494078</td>\n      <td>2.394637</td>\n    </tr>\n    <tr>\n      <th>81540</th>\n      <td>0.615062</td>\n      <td>1.191643</td>\n      <td>0.831269</td>\n      <td>-0.083804</td>\n      <td>0.14550</td>\n      <td>0.610797</td>\n      <td>0.448910</td>\n      <td>0.053056</td>\n      <td>0.425060</td>\n      <td>0.229382</td>\n      <td>...</td>\n      <td>1.0</td>\n      <td>2.0</td>\n      <td>1.0</td>\n      <td>1.0</td>\n      <td>2.0</td>\n      <td>100.0</td>\n      <td>2020-07-16T09:18:04.985000</td>\n      <td>145.178665</td>\n      <td>84.475874</td>\n      <td>2.399381</td>\n    </tr>\n    <tr>\n      <th>81541</th>\n      <td>0.615062</td>\n      <td>1.191643</td>\n      <td>0.831269</td>\n      <td>-0.083804</td>\n      <td>0.14550</td>\n      <td>0.610797</td>\n      <td>0.448910</td>\n      <td>0.053056</td>\n      <td>0.425060</td>\n      <td>0.229382</td>\n      <td>...</td>\n      <td>1.0</td>\n      <td>2.0</td>\n      <td>1.0</td>\n      <td>1.0</td>\n      <td>2.0</td>\n      <td>100.0</td>\n      <td>2020-07-16T09:18:04.986000</td>\n      <td>227.497589</td>\n      <td>84.457256</td>\n      <td>2.404008</td>\n    </tr>\n  </tbody>\n</table>\n<p>81542 rows × 41 columns</p>\n</div>"
     },
     "execution_count": 104,
     "metadata": {},
     "output_type": "execute_result"
    }
   ],
   "source": [
    "per_user_stimulus_arr[\"22\"][\"BASELINE\"]"
   ],
   "metadata": {
    "collapsed": false,
    "pycharm": {
     "name": "#%%\n"
    }
   }
  },
  {
   "cell_type": "code",
   "execution_count": 63,
   "outputs": [
    {
     "data": {
      "text/plain": "{'SADNESS': {'AWE': 1,\n  'DISGUST': 1,\n  'SURPRISE': 2,\n  'ANGER': 2,\n  'ENTHUSIASM': 1,\n  'LIKING': 1,\n  'FEAR': 1,\n  'AMUSEMENT': 1,\n  'SADNESS': 4},\n 'NEUTRAL': {'AWE': 1,\n  'DISGUST': 1,\n  'SURPRISE': 1,\n  'ANGER': 1,\n  'ENTHUSIASM': 1,\n  'LIKING': 1,\n  'FEAR': 1,\n  'AMUSEMENT': 1,\n  'SADNESS': 1},\n 'ENTHUSIASM': {'AWE': 3,\n  'DISGUST': 1,\n  'SURPRISE': 1,\n  'ANGER': 1,\n  'ENTHUSIASM': 4,\n  'LIKING': 4,\n  'FEAR': 1,\n  'AMUSEMENT': 2,\n  'SADNESS': 2},\n 'DISGUST': {'AWE': 1,\n  'DISGUST': 4,\n  'SURPRISE': 2,\n  'ANGER': 1,\n  'ENTHUSIASM': 1,\n  'LIKING': 1,\n  'FEAR': 1,\n  'AMUSEMENT': 2,\n  'SADNESS': 1},\n 'AWE': {'AWE': 4,\n  'DISGUST': 1,\n  'SURPRISE': 2,\n  'ANGER': 1,\n  'ENTHUSIASM': 4,\n  'LIKING': 4,\n  'FEAR': 1,\n  'AMUSEMENT': 1,\n  'SADNESS': 2},\n 'SURPRISE': {'AWE': 1,\n  'DISGUST': 1,\n  'SURPRISE': 4,\n  'ANGER': 1,\n  'ENTHUSIASM': 1,\n  'LIKING': 1,\n  'FEAR': 3,\n  'AMUSEMENT': 1,\n  'SADNESS': 1},\n 'LIKING': {'AWE': 3,\n  'DISGUST': 1,\n  'SURPRISE': 1,\n  'ANGER': 1,\n  'ENTHUSIASM': 2,\n  'LIKING': 3,\n  'FEAR': 1,\n  'AMUSEMENT': 2,\n  'SADNESS': 1},\n 'AMUSEMENT': {'AWE': 1,\n  'DISGUST': 1,\n  'SURPRISE': 2,\n  'ANGER': 1,\n  'ENTHUSIASM': 2,\n  'LIKING': 1,\n  'FEAR': 1,\n  'AMUSEMENT': 3,\n  'SADNESS': 1},\n 'FEAR': {'AWE': 1,\n  'DISGUST': 3,\n  'SURPRISE': 2,\n  'ANGER': 1,\n  'ENTHUSIASM': 1,\n  'LIKING': 1,\n  'FEAR': 4,\n  'AMUSEMENT': 1,\n  'SADNESS': 2},\n 'BASELINE': {'AWE': 1,\n  'DISGUST': 1,\n  'SURPRISE': 1,\n  'ANGER': 1,\n  'ENTHUSIASM': 2,\n  'LIKING': 1,\n  'FEAR': 1,\n  'AMUSEMENT': 2,\n  'SADNESS': 1},\n 'ANGER': {'AWE': 1,\n  'DISGUST': 4,\n  'SURPRISE': 2,\n  'ANGER': 4,\n  'ENTHUSIASM': 1,\n  'LIKING': 1,\n  'FEAR': 3,\n  'AMUSEMENT': 1,\n  'SADNESS': 3}}"
     },
     "execution_count": 63,
     "metadata": {},
     "output_type": "execute_result"
    }
   ],
   "source": [
    "per_user_labels['22']"
   ],
   "metadata": {
    "collapsed": false,
    "pycharm": {
     "name": "#%%\n"
    }
   }
  },
  {
   "cell_type": "code",
   "execution_count": 54,
   "outputs": [],
   "source": [
    "emotions = {\"BASELINE\",\"AMUSEMENT\",\"ANGER\",\"AWE\",\"BASELINE\",\"DISGUST\",\"ENTHUSIASM\",\"FEAR\",\"LIKING\",\"NEUTRAL\",\"SADNESS\",\"SURPRISE\"}\n",
    "emotion_dict = {e:{} for e in emotions}"
   ],
   "metadata": {
    "collapsed": false,
    "pycharm": {
     "name": "#%%\n"
    }
   }
  },
  {
   "cell_type": "code",
   "execution_count": 55,
   "outputs": [],
   "source": [
    "for condition in quest_results['questionnaires']:\n",
    "    cond_type = condition[\"movie\"]\n",
    "    emotion_dict[cond_type] = condition[\"emotions\"]\n"
   ],
   "metadata": {
    "collapsed": false,
    "pycharm": {
     "name": "#%%\n"
    }
   }
  },
  {
   "cell_type": "code",
   "execution_count": 58,
   "outputs": [
    {
     "data": {
      "text/plain": "dict_values([{'AWE': 1, 'DISGUST': 1, 'SURPRISE': 2, 'ANGER': 2, 'ENTHUSIASM': 1, 'LIKING': 1, 'FEAR': 1, 'AMUSEMENT': 1, 'SADNESS': 4}, {'AWE': 1, 'DISGUST': 1, 'SURPRISE': 1, 'ANGER': 1, 'ENTHUSIASM': 1, 'LIKING': 1, 'FEAR': 1, 'AMUSEMENT': 1, 'SADNESS': 1}, {'AWE': 3, 'DISGUST': 1, 'SURPRISE': 1, 'ANGER': 1, 'ENTHUSIASM': 4, 'LIKING': 4, 'FEAR': 1, 'AMUSEMENT': 2, 'SADNESS': 2}, {'AWE': 1, 'DISGUST': 4, 'SURPRISE': 2, 'ANGER': 1, 'ENTHUSIASM': 1, 'LIKING': 1, 'FEAR': 1, 'AMUSEMENT': 2, 'SADNESS': 1}, {'AWE': 4, 'DISGUST': 1, 'SURPRISE': 2, 'ANGER': 1, 'ENTHUSIASM': 4, 'LIKING': 4, 'FEAR': 1, 'AMUSEMENT': 1, 'SADNESS': 2}, {'AWE': 1, 'DISGUST': 1, 'SURPRISE': 4, 'ANGER': 1, 'ENTHUSIASM': 1, 'LIKING': 1, 'FEAR': 3, 'AMUSEMENT': 1, 'SADNESS': 1}, {'AWE': 3, 'DISGUST': 1, 'SURPRISE': 1, 'ANGER': 1, 'ENTHUSIASM': 2, 'LIKING': 3, 'FEAR': 1, 'AMUSEMENT': 2, 'SADNESS': 1}, {'AWE': 1, 'DISGUST': 1, 'SURPRISE': 2, 'ANGER': 1, 'ENTHUSIASM': 2, 'LIKING': 1, 'FEAR': 1, 'AMUSEMENT': 3, 'SADNESS': 1}, {'AWE': 1, 'DISGUST': 3, 'SURPRISE': 2, 'ANGER': 1, 'ENTHUSIASM': 1, 'LIKING': 1, 'FEAR': 4, 'AMUSEMENT': 1, 'SADNESS': 2}, {'AWE': 1, 'DISGUST': 1, 'SURPRISE': 1, 'ANGER': 1, 'ENTHUSIASM': 2, 'LIKING': 1, 'FEAR': 1, 'AMUSEMENT': 2, 'SADNESS': 1}, {'AWE': 1, 'DISGUST': 4, 'SURPRISE': 2, 'ANGER': 4, 'ENTHUSIASM': 1, 'LIKING': 1, 'FEAR': 3, 'AMUSEMENT': 1, 'SADNESS': 3}])"
     },
     "execution_count": 58,
     "metadata": {},
     "output_type": "execute_result"
    }
   ],
   "source": [
    "emotion_dict.values()"
   ],
   "metadata": {
    "collapsed": false,
    "pycharm": {
     "name": "#%%\n"
    }
   }
  },
  {
   "cell_type": "code",
   "execution_count": null,
   "outputs": [],
   "source": [
    "with open()"
   ],
   "metadata": {
    "collapsed": false,
    "pycharm": {
     "name": "#%%\n"
    }
   }
  },
  {
   "cell_type": "code",
   "execution_count": 10,
   "outputs": [
    {
     "name": "stdout",
     "output_type": "stream",
     "text": [
      "TimeStamp\n",
      "Data Length:  30739\n",
      "Delta_TP9\n",
      "Data Length:  30739\n",
      "Delta_AF7\n",
      "Data Length:  30739\n",
      "Delta_AF8\n",
      "Data Length:  30739\n",
      "Delta_TP10\n",
      "Data Length:  30739\n",
      "Theta_TP9\n",
      "Data Length:  30739\n",
      "Theta_AF7\n",
      "Data Length:  30739\n",
      "Theta_AF8\n",
      "Data Length:  30739\n",
      "Theta_TP10\n",
      "Data Length:  30739\n",
      "Alpha_TP9\n",
      "Data Length:  30739\n",
      "Alpha_AF7\n",
      "Data Length:  30739\n",
      "Alpha_AF8\n",
      "Data Length:  30739\n",
      "Alpha_TP10\n",
      "Data Length:  30739\n",
      "Beta_TP9\n",
      "Data Length:  30739\n",
      "Beta_AF7\n",
      "Data Length:  30739\n",
      "Beta_AF8\n",
      "Data Length:  30739\n",
      "Beta_TP10\n",
      "Data Length:  30739\n",
      "Gamma_TP9\n",
      "Data Length:  30739\n",
      "Gamma_AF7\n",
      "Data Length:  30739\n",
      "Gamma_AF8\n",
      "Data Length:  30739\n",
      "Gamma_TP10\n",
      "Data Length:  30739\n",
      "RAW_TP9\n",
      "Data Length:  30739\n",
      "RAW_AF7\n",
      "Data Length:  30739\n",
      "RAW_AF8\n",
      "Data Length:  30739\n",
      "RAW_TP10\n",
      "Data Length:  30739\n",
      "AUX_RIGHT\n",
      "Data Length:  30739\n",
      "Accelerometer_X\n",
      "Data Length:  30739\n",
      "Accelerometer_Y\n",
      "Data Length:  30739\n",
      "Accelerometer_Z\n",
      "Data Length:  30739\n",
      "Gyro_X\n",
      "Data Length:  30739\n",
      "Gyro_Y\n",
      "Data Length:  30739\n",
      "Gyro_Z\n",
      "Data Length:  30739\n",
      "HeadBandOn\n",
      "Data Length:  30739\n",
      "HSI_TP9\n",
      "Data Length:  30739\n",
      "HSI_AF7\n",
      "Data Length:  30739\n",
      "HSI_AF8\n",
      "Data Length:  30739\n",
      "HSI_TP10\n",
      "Data Length:  30739\n",
      "Battery\n",
      "Data Length:  30739\n"
     ]
    }
   ],
   "source": [
    "for name,d in data.items():\n",
    "    print(name)\n",
    "    print(\"Data Length: \",len(d))"
   ],
   "metadata": {
    "collapsed": false,
    "pycharm": {
     "name": "#%%\n"
    }
   }
  },
  {
   "cell_type": "code",
   "execution_count": 16,
   "outputs": [],
   "source": [
    "df = pd.DataFrame.from_dict(data)"
   ],
   "metadata": {
    "collapsed": false,
    "pycharm": {
     "name": "#%%\n"
    }
   }
  },
  {
   "cell_type": "code",
   "execution_count": 18,
   "outputs": [
    {
     "name": "stdout",
     "output_type": "stream",
     "text": [
      "<class 'pandas.core.frame.DataFrame'>\n",
      "RangeIndex: 30739 entries, 0 to 30738\n",
      "Data columns (total 38 columns):\n",
      " #   Column           Non-Null Count  Dtype  \n",
      "---  ------           --------------  -----  \n",
      " 0   TimeStamp        30739 non-null  object \n",
      " 1   Delta_TP9        30711 non-null  float64\n",
      " 2   Delta_AF7        30711 non-null  float64\n",
      " 3   Delta_AF8        30711 non-null  float64\n",
      " 4   Delta_TP10       30711 non-null  float64\n",
      " 5   Theta_TP9        30711 non-null  float64\n",
      " 6   Theta_AF7        30711 non-null  float64\n",
      " 7   Theta_AF8        30711 non-null  float64\n",
      " 8   Theta_TP10       30711 non-null  float64\n",
      " 9   Alpha_TP9        30711 non-null  float64\n",
      " 10  Alpha_AF7        30711 non-null  float64\n",
      " 11  Alpha_AF8        30711 non-null  float64\n",
      " 12  Alpha_TP10       30711 non-null  float64\n",
      " 13  Beta_TP9         30711 non-null  float64\n",
      " 14  Beta_AF7         30711 non-null  float64\n",
      " 15  Beta_AF8         30711 non-null  float64\n",
      " 16  Beta_TP10        30711 non-null  float64\n",
      " 17  Gamma_TP9        30711 non-null  float64\n",
      " 18  Gamma_AF7        30711 non-null  float64\n",
      " 19  Gamma_AF8        30711 non-null  float64\n",
      " 20  Gamma_TP10       30711 non-null  float64\n",
      " 21  RAW_TP9          30711 non-null  float64\n",
      " 22  RAW_AF7          30711 non-null  float64\n",
      " 23  RAW_AF8          30711 non-null  float64\n",
      " 24  RAW_TP10         30711 non-null  float64\n",
      " 25  AUX_RIGHT        30711 non-null  float64\n",
      " 26  Accelerometer_X  30711 non-null  float64\n",
      " 27  Accelerometer_Y  30711 non-null  float64\n",
      " 28  Accelerometer_Z  30711 non-null  float64\n",
      " 29  Gyro_X           30711 non-null  float64\n",
      " 30  Gyro_Y           30711 non-null  float64\n",
      " 31  Gyro_Z           30711 non-null  float64\n",
      " 32  HeadBandOn       30711 non-null  float64\n",
      " 33  HSI_TP9          30711 non-null  float64\n",
      " 34  HSI_AF7          30711 non-null  float64\n",
      " 35  HSI_AF8          30711 non-null  float64\n",
      " 36  HSI_TP10         30711 non-null  float64\n",
      " 37  Battery          30711 non-null  float64\n",
      "dtypes: float64(37), object(1)\n",
      "memory usage: 8.9+ MB\n"
     ]
    }
   ],
   "source": [
    "df.info()"
   ],
   "metadata": {
    "collapsed": false,
    "pycharm": {
     "name": "#%%\n"
    }
   }
  },
  {
   "cell_type": "code",
   "execution_count": 30,
   "outputs": [
    {
     "data": {
      "text/plain": "dict_keys(['BVP', 'TEMP', 'IBI', 'ACC', 'EDA'])"
     },
     "execution_count": 30,
     "metadata": {},
     "output_type": "execute_result"
    }
   ],
   "source": [
    "sampling_rates_original = {'BVP':64,'TEMP':4,'EDA':4}\n",
    "testing_data = True\n",
    "with open(r\"C:\\Users\\nelso\\Desktop\\18065 Project Data\\Emognition\\22\\22_AMUSEMENT_STIMULUS_EMPATICA.json\") as json_file:\n",
    "    data = json.load(json_file)\n",
    "    for d_type,physio_and_stamps in data.items():\n",
    "        physio_data = np.array(physio_and_stamps)[:,-1].astype(\"float32\")\n",
    "        physio_data = sig.resample(physio_data,)\n",
    "        if testing_data:\n",
    "\n",
    "    # df = pd.DataFrame.from_dict(data)\n",
    "    # print(df.to_numpy().shape)\n",
    "# df = pd.DataFrame.from_dict(data)\n",
    "data.keys()"
   ],
   "metadata": {
    "collapsed": false,
    "pycharm": {
     "name": "#%%\n"
    }
   }
  },
  {
   "cell_type": "code",
   "execution_count": null,
   "outputs": [],
   "source": [
    "#Calculations to ensure sampling rate and time of recordings match\n",
    "approx_samp_rate_subject20 = 64*(30739/7680)\n",
    "approx_exp_duration_subject20 = 30739/256/60"
   ],
   "metadata": {
    "collapsed": false,
    "pycharm": {
     "name": "#%%\n"
    }
   }
  }
 ],
 "metadata": {
  "kernelspec": {
   "display_name": "Python 3",
   "language": "python",
   "name": "python3"
  },
  "language_info": {
   "codemirror_mode": {
    "name": "ipython",
    "version": 2
   },
   "file_extension": ".py",
   "mimetype": "text/x-python",
   "name": "python",
   "nbconvert_exporter": "python",
   "pygments_lexer": "ipython2",
   "version": "2.7.6"
  }
 },
 "nbformat": 4,
 "nbformat_minor": 0
}